{
 "cells": [
  {
   "attachments": {},
   "cell_type": "markdown",
   "metadata": {},
   "source": [
    "# API Main Functions and Use cases (Py to MindSphere)"
   ]
  },
  {
   "attachments": {},
   "cell_type": "markdown",
   "metadata": {},
   "source": [
    "Run `Import Libraries` and `Main set of Functions` to test the use cases."
   ]
  },
  {
   "attachments": {},
   "cell_type": "markdown",
   "metadata": {},
   "source": [
    "## Import Libraries"
   ]
  },
  {
   "cell_type": "code",
   "execution_count": 6,
   "metadata": {},
   "outputs": [],
   "source": [
    "import requests\n",
    "import json\n",
    "import base64"
   ]
  },
  {
   "attachments": {},
   "cell_type": "markdown",
   "metadata": {},
   "source": [
    "## Main set of Functions"
   ]
  },
  {
   "cell_type": "code",
   "execution_count": 7,
   "metadata": {},
   "outputs": [],
   "source": [
    "#=========================================================\n",
    "#--- Generate bearer_token\n",
    "#=========================================================\n",
    "def bearerToken():\n",
    "    #--- App details from developer cockpit\n",
    "    CLIENT_ID = \"iiotuxpc-testdm-v1.0.0\"\n",
    "    CLIENT_SECRET = \"UvwnNgdc8Y0KsE7IZSFy2Jp28kQGzAd0fEHXcDOWbIX\"\n",
    "    APP_NAME = \"testdm\"\n",
    "    APP_VERSION = \"v1.0.0\"\n",
    "    HOST_TENANT = \"iiotuxpc\"\n",
    "    USER_TENANT = \"iiotuxpc\"\n",
    "    credential_create_time = \"23/02/2023::18:53\"\n",
    "\n",
    "    #--- generate access token\n",
    "    id = CLIENT_ID\n",
    "    secret = CLIENT_SECRET\n",
    "    encode_msg = id + \":\" + secret\n",
    "    token = base64.b64encode(encode_msg.encode(\"utf-8\")).decode(\"utf-8\")\n",
    "    url = \"https://gateway.eu1.mindsphere.io/api/technicaltokenmanager/v3/oauth/token\"\n",
    "\n",
    "    payload = json.dumps({\n",
    "    \"grant_type\": \"client_credentials\",\n",
    "    \"appName\": APP_NAME,\n",
    "    \"appVersion\": APP_VERSION,\n",
    "    \"hostTenant\": HOST_TENANT,\n",
    "    \"userTenant\": USER_TENANT\n",
    "    })\n",
    "    headers = {\n",
    "    'X-SPACE-AUTH-KEY': \"Basic \" + token,\n",
    "    'Content-Type': 'application/json'\n",
    "    }\n",
    "\n",
    "    token_response = requests.request(\"POST\", url, headers=headers, data=payload)\n",
    "    # print(token_response.text)\n",
    "    bearer_token = json.loads(token_response.text)[\"access_token\"]\n",
    "    return(bearer_token)\n",
    "#------------------------------------------------------------------------------------------------------\n",
    "\n",
    "#=========================================================\n",
    "#--- Find AssetID using Asset name with GET API\n",
    "#=========================================================\n",
    "\n",
    "def get_assetid(bearer_token,asset_name):\n",
    "    #--- get list of assets\n",
    "    bearer_token = bearerToken()\n",
    "    url = \"https://gateway.eu1.mindsphere.io/api/assetmanagement/v3/assets\"\n",
    "    payload={}\n",
    "    headers = {\n",
    "    'Authorization': 'Bearer ' + bearer_token\n",
    "    }\n",
    "    assets_list_response = requests.request(\"GET\", url, headers=headers, data=payload)  # GET API call for assets_list\n",
    "    assets_list=json.loads(assets_list_response.text)\n",
    "    assets_count = assets_list[\"page\"][\"totalElements\"]     # total number of assets available\n",
    "    \n",
    "    #--- find the asset_name and the corresponding ID in the assets_list\n",
    "    for ii in range(0,assets_count):\n",
    "        if assets_list[\"_embedded\"][\"assets\"][ii][\"name\"] == asset_name:\n",
    "            asset_Id = assets_list[\"_embedded\"][\"assets\"][ii][\"assetId\"]\n",
    "            # print(asset_name,asset_Id)\n",
    "            break\n",
    "    else: print(\"Error:\\n\\tAsset not found in the assets list.\\n\\tVerify the accuracy of asset name and the assets list. Asset name is case sensitive.\")\n",
    "    return(asset_Id)\n",
    "#------------------------------------------------------------------------------------------------------\n",
    "\n",
    "#=========================================================\n",
    "#--- GET time series data\n",
    "#=========================================================\n",
    "\n",
    "# get time series data from MindSphere specific to the aspect of a asset and query condition\n",
    "def get_timeseries(asset_name, aspect_name, from_time, to_time):\n",
    "    bearer_token = bearerToken()    # expires in 1799 seconds\n",
    "    asset_Id = get_assetid(bearer_token, asset_name)\n",
    "    data_condition = \"?from=\" + from_time + \"&to=\" + to_time    # query condition with from and to time period\n",
    "    end_point = \"iottimeseries/v3/timeseries/\" + asset_Id + \"/\" + aspect_name + data_condition\n",
    "    base_url = \"https://gateway.eu1.mindsphere.io/api/\"\n",
    "    url = base_url + end_point\n",
    "\n",
    "    payload={}\n",
    "    headers = {\n",
    "     'Authorization': 'Bearer ' + bearer_token\n",
    "    }\n",
    "\n",
    "    time_series_response = requests.request(\"GET\", url, headers=headers, data=payload)  # GET API call\n",
    "    print(time_series_response.text)\n",
    "    time_series=json.loads(time_series_response.text)\n",
    "    return(time_series)\n",
    "\n",
    "#------------------------------------------------------------------------------------------------------\n",
    "\n",
    "#=========================================================\n",
    "#--- PUT time series data\n",
    "#=========================================================\n",
    "\n",
    "# put time series data into MindSphere specific to the aspect of a asset\n",
    "def put_timeseries(asset_name, aspect_name, payload):\n",
    "    bearer_token = bearerToken()    # expires in 1799 seconds\n",
    "    asset_Id = get_assetid(bearer_token, asset_name)\n",
    "    end_point = \"iottimeseries/v3/timeseries/\" + asset_Id + \"/\" + aspect_name\n",
    "    base_url = \"https://gateway.eu1.mindsphere.io/api/\"\n",
    "    url = base_url + end_point\n",
    "\n",
    "    headers = {\n",
    "    'Content-Type': 'application/json',\n",
    "    'Accept': 'application/json',\n",
    "    'Authorization': \"Bearer \" + bearer_token\n",
    "    }\n",
    "\n",
    "    response = requests.request(\"PUT\", url, headers=headers, data=payload)  # PUT API call\n",
    "    if not response.text:\n",
    "        print(\"Data PUT successfully.\")\n",
    "    else:print(\"Error:\\n\\t\",response.text)\n",
    "\n",
    "#------------------------------------------------------------------------------------------------------\n"
   ]
  },
  {
   "attachments": {},
   "cell_type": "markdown",
   "metadata": {},
   "source": [
    "## Use Cases"
   ]
  },
  {
   "attachments": {},
   "cell_type": "markdown",
   "metadata": {},
   "source": [
    "### Generate bearer token"
   ]
  },
  {
   "cell_type": "code",
   "execution_count": 8,
   "metadata": {},
   "outputs": [
    {
     "name": "stdout",
     "output_type": "stream",
     "text": [
      "eyJhbGciOiJSUzI1NiIsImprdSI6Imh0dHBzOi8vaWlvdHV4cGMucGlhbS5ldTEubWluZHNwaGVyZS5pby90b2tlbl9rZXlzIiwia2lkIjoia2V5LWlkLTMiLCJ0eXAiOiJKV1QifQ.eyJqdGkiOiJjMDFhODRhNmUwZjI0NzBlYmVmNTI4NmI3MTdmMDcwZSIsInN1YiI6Imlpb3R1eHBjLXRlc3RkbS12MS4wLjAzOSIsInNjb3BlIjpbImlhbS1hY3Rpb24uY2xpZW50X2NyZWRlbnRpYWxzLnVzZXItaW1wZXJzb25hdGlvbiIsIm1kc3A6Y29yZTpBZG1pbjNyZFBhcnR5VGVjaFVzZXIiXSwiY2xpZW50X2lkIjoiaWlvdHV4cGMtdGVzdGRtLXYxLjAuMDM5IiwiY2lkIjoiaWlvdHV4cGMtdGVzdGRtLXYxLjAuMDM5IiwiYXpwIjoiaWlvdHV4cGMtdGVzdGRtLXYxLjAuMDM5IiwiZ3JhbnRfdHlwZSI6ImNsaWVudF9jcmVkZW50aWFscyIsInJldl9zaWciOiI3ODA5MTVhNCIsImlhdCI6MTY3NzQzMTE1OSwiZXhwIjoxNjc3NDMyOTU5LCJpc3MiOiJodHRwczovL2lpb3R1eHBjLnBpYW0uZXUxLm1pbmRzcGhlcmUuaW8vb2F1dGgvdG9rZW4iLCJ6aWQiOiJpaW90dXhwYyIsImF1ZCI6WyJpYW0tYWN0aW9uLmNsaWVudF9jcmVkZW50aWFscyIsImlpb3R1eHBjLXRlc3RkbS12MS4wLjAzOSJdLCJ0ZW4iOiJpaW90dXhwYyIsInNjaGVtYXMiOlsidXJuOnNpZW1lbnM6bWluZHNwaGVyZTppYW06djEiXSwiY2F0IjoiY2xpZW50LXRva2VuOnYxIn0.KLoog5hLTb9rGXe2s6sGG69v4ml00_evC1yVwEBG2bFvB6MIblOxuC4BDlmr22PfHNqPrGfSxYtHzrlM9JSm7iu-qz7M7HDmq0pXqMEjKDKVKVWSqmGI1F0G9EeNOdssnlUczDBh9HxcxuhB2aqOvnbRtuYBOzj8u_2CIP_BkHKKIrdtGHvUj6SiPik-QNpCP25TwJZtAy2bYfHhygCwJOASePeib3kprOUMD75oX8KjvR78uBq_tLad8DM2vREDWNyK15iiDfOyOYEJVuK2Gb0YqBYsrpFJGTS6lPNRJCRfcKtaibx7XtURWn7w6sDd2G4klVPUgZlPh1x6x8FmOA\n"
     ]
    }
   ],
   "source": [
    "bearer_token = bearerToken()\n",
    "print(bearer_token)"
   ]
  },
  {
   "attachments": {},
   "cell_type": "markdown",
   "metadata": {},
   "source": [
    "### Find Asset ID"
   ]
  },
  {
   "cell_type": "code",
   "execution_count": 108,
   "metadata": {},
   "outputs": [],
   "source": [
    "bearer_token = bearerToken()\n",
    "asset_Id = get_assetid(bearer_token,\"machine\")\n",
    "# print(asset_Id)"
   ]
  },
  {
   "attachments": {},
   "cell_type": "markdown",
   "metadata": {},
   "source": [
    "### GET timeseries data"
   ]
  },
  {
   "cell_type": "code",
   "execution_count": null,
   "metadata": {},
   "outputs": [],
   "source": [
    "# get list of aspects a asset\n",
    "asset_name = \"machine\"\n",
    "aspect_name = \"real_log\"\n",
    "from_time = \"2023-02-20T02:00:01.001Z\"\n",
    "to_time = \"2023-02-20T02:02:01.001Z\"\n",
    "\n",
    "time_series = get_timeseries(asset_name, aspect_name, from_time, to_time)\n",
    "# print(time_series)"
   ]
  },
  {
   "attachments": {},
   "cell_type": "markdown",
   "metadata": {},
   "source": [
    "### PUT timeseries data"
   ]
  },
  {
   "cell_type": "code",
   "execution_count": 114,
   "metadata": {},
   "outputs": [
    {
     "name": "stdout",
     "output_type": "stream",
     "text": [
      "Data PUT successfully.\n"
     ]
    }
   ],
   "source": [
    "#--- create a table from existing txt file or log file\n",
    "\n",
    "\n",
    "#--- process the table to desired input format\n",
    "\n",
    "\n",
    "#--- convert the table into json dictionary\n",
    "payload = json.dumps([\n",
    "    {\n",
    "    \"_time\":\"2023-02-20T02:01:01.001Z\",\n",
    "    \"activity_type\":\"started\",\n",
    "    \"machine_id\":\"machine_1\",\n",
    "    \"part_id\":\"100\",\n",
    "    \"queue\":\"queue 1\",\n",
    "    \"timestamp\":\"2023-02-20T02:01:01.001Z\"\n",
    "    },\n",
    "    {\n",
    "    \"_time\":\"2023-02-20T02:02:01.001Z\",\n",
    "    \"activity_type\":\"finished\",\n",
    "    \"machine_id\":\"machine_1\",\n",
    "    \"part_id\":\"100\",\n",
    "    \"queue\":\"queue 1\",\n",
    "    \"timestamp\":\"2023-02-20T02:02:01.001Z\"\n",
    "    }\n",
    "])\n",
    "\n",
    "#--- call PUT API\n",
    "asset_name = \"machine\"\n",
    "aspect_name = \"real_log\"\n",
    "put_timeseries(asset_name, aspect_name, payload)\n"
   ]
  },
  {
   "attachments": {},
   "cell_type": "markdown",
   "metadata": {},
   "source": [
    "# Testing Modules"
   ]
  },
  {
   "attachments": {},
   "cell_type": "markdown",
   "metadata": {},
   "source": [
    "### Initial steps\n",
    "- create an app in the developer cockpit\n",
    "- use `siemens.com` as direct url\n",
    "- use /** as endpoint\n",
    "- setup MindSPhere API roles for the user in the App roles section of Authorisation Management tab\n",
    "- save and register\n",
    "- goto App credentials in Authorization management tab and click issue access to get Client ID and Client secret\n",
    "\n",
    "When application hosting type is `SELF_HOSTED`, the variables must be configured on server."
   ]
  },
  {
   "attachments": {},
   "cell_type": "markdown",
   "metadata": {},
   "source": [
    "## App credentials and bearer_token for testdm (internal name)"
   ]
  },
  {
   "cell_type": "code",
   "execution_count": 96,
   "metadata": {},
   "outputs": [
    {
     "name": "stdout",
     "output_type": "stream",
     "text": [
      "{\"access_token\":\"eyJhbGciOiJSUzI1NiIsImprdSI6Imh0dHBzOi8vaWlvdHV4cGMucGlhbS5ldTEubWluZHNwaGVyZS5pby90b2tlbl9rZXlzIiwia2lkIjoia2V5LWlkLTMiLCJ0eXAiOiJKV1QifQ.eyJqdGkiOiIwZjU2MjdlZmMwOWE0MGRiYTdiMTc0MWM3ZmYwZGJiOSIsInN1YiI6Imlpb3R1eHBjLXRlc3RkbS12MS4wLjAzOSIsInNjb3BlIjpbImlhbS1hY3Rpb24uY2xpZW50X2NyZWRlbnRpYWxzLnVzZXItaW1wZXJzb25hdGlvbiIsIm1kc3A6Y29yZTpBZG1pbjNyZFBhcnR5VGVjaFVzZXIiXSwiY2xpZW50X2lkIjoiaWlvdHV4cGMtdGVzdGRtLXYxLjAuMDM5IiwiY2lkIjoiaWlvdHV4cGMtdGVzdGRtLXYxLjAuMDM5IiwiYXpwIjoiaWlvdHV4cGMtdGVzdGRtLXYxLjAuMDM5IiwiZ3JhbnRfdHlwZSI6ImNsaWVudF9jcmVkZW50aWFscyIsInJldl9zaWciOiI3ODA5MTVhNCIsImlhdCI6MTY3NzM3NDcwNSwiZXhwIjoxNjc3Mzc2NTA1LCJpc3MiOiJodHRwczovL2lpb3R1eHBjLnBpYW0uZXUxLm1pbmRzcGhlcmUuaW8vb2F1dGgvdG9rZW4iLCJ6aWQiOiJpaW90dXhwYyIsImF1ZCI6WyJpYW0tYWN0aW9uLmNsaWVudF9jcmVkZW50aWFscyIsImlpb3R1eHBjLXRlc3RkbS12MS4wLjAzOSJdLCJ0ZW4iOiJpaW90dXhwYyIsInNjaGVtYXMiOlsidXJuOnNpZW1lbnM6bWluZHNwaGVyZTppYW06djEiXSwiY2F0IjoiY2xpZW50LXRva2VuOnYxIn0.o6GbAhXLtzJlSATtMZjuzsJfZCHtEtHyy8a3Fh4gRtr1HhhYHglZakft8szYYyKYF6y9kuUbFE8dqz6mcmdNuY376rGua6BgSA6Dt9T2MGyxqdIr_z9nBu1gCQcSOq5OxhxBSg0sXJxe9ifCn0lwdF4sH2qBK_1m8jjKCPuSuL2pPTU0Jj3PGQHCPzD_-cqVgYLb9QIJ1LucmF-vlCh_P5HMdzO_4faJadNqHRTcly0tMDXTu_QIWqZpJPIuqok7PKY0fvrsnK-5Vrek79HQAKAbcmVv3KvPVsKqBHrzZnIL7tIsiyeqCRwFaPvM-ZD3ATaKpc6ByCi86fTzZQPJug\",\"token_type\":\"bearer\",\"expires_in\":1799,\"scope\":\"iam-action.client_credentials.user-impersonation mdsp:core:Admin3rdPartyTechUser\",\"jti\":\"0f5627efc09a40dba7b1741c7ff0dbb9\",\"timestamp\":1677374705250}\n",
      "eyJhbGciOiJSUzI1NiIsImprdSI6Imh0dHBzOi8vaWlvdHV4cGMucGlhbS5ldTEubWluZHNwaGVyZS5pby90b2tlbl9rZXlzIiwia2lkIjoia2V5LWlkLTMiLCJ0eXAiOiJKV1QifQ.eyJqdGkiOiIwZjU2MjdlZmMwOWE0MGRiYTdiMTc0MWM3ZmYwZGJiOSIsInN1YiI6Imlpb3R1eHBjLXRlc3RkbS12MS4wLjAzOSIsInNjb3BlIjpbImlhbS1hY3Rpb24uY2xpZW50X2NyZWRlbnRpYWxzLnVzZXItaW1wZXJzb25hdGlvbiIsIm1kc3A6Y29yZTpBZG1pbjNyZFBhcnR5VGVjaFVzZXIiXSwiY2xpZW50X2lkIjoiaWlvdHV4cGMtdGVzdGRtLXYxLjAuMDM5IiwiY2lkIjoiaWlvdHV4cGMtdGVzdGRtLXYxLjAuMDM5IiwiYXpwIjoiaWlvdHV4cGMtdGVzdGRtLXYxLjAuMDM5IiwiZ3JhbnRfdHlwZSI6ImNsaWVudF9jcmVkZW50aWFscyIsInJldl9zaWciOiI3ODA5MTVhNCIsImlhdCI6MTY3NzM3NDcwNSwiZXhwIjoxNjc3Mzc2NTA1LCJpc3MiOiJodHRwczovL2lpb3R1eHBjLnBpYW0uZXUxLm1pbmRzcGhlcmUuaW8vb2F1dGgvdG9rZW4iLCJ6aWQiOiJpaW90dXhwYyIsImF1ZCI6WyJpYW0tYWN0aW9uLmNsaWVudF9jcmVkZW50aWFscyIsImlpb3R1eHBjLXRlc3RkbS12MS4wLjAzOSJdLCJ0ZW4iOiJpaW90dXhwYyIsInNjaGVtYXMiOlsidXJuOnNpZW1lbnM6bWluZHNwaGVyZTppYW06djEiXSwiY2F0IjoiY2xpZW50LXRva2VuOnYxIn0.o6GbAhXLtzJlSATtMZjuzsJfZCHtEtHyy8a3Fh4gRtr1HhhYHglZakft8szYYyKYF6y9kuUbFE8dqz6mcmdNuY376rGua6BgSA6Dt9T2MGyxqdIr_z9nBu1gCQcSOq5OxhxBSg0sXJxe9ifCn0lwdF4sH2qBK_1m8jjKCPuSuL2pPTU0Jj3PGQHCPzD_-cqVgYLb9QIJ1LucmF-vlCh_P5HMdzO_4faJadNqHRTcly0tMDXTu_QIWqZpJPIuqok7PKY0fvrsnK-5Vrek79HQAKAbcmVv3KvPVsKqBHrzZnIL7tIsiyeqCRwFaPvM-ZD3ATaKpc6ByCi86fTzZQPJug\n"
     ]
    }
   ],
   "source": [
    "#--- App details\n",
    "CLIENT_ID = \"iiotuxpc-testdm-v1.0.0\"\n",
    "CLIENT_SECRET = \"UvwnNgdc8Y0KsE7IZSFy2Jp28kQGzAd0fEHXcDOWbIX\"\n",
    "APP_NAME = \"testdm\"\n",
    "APP_VERSION = \"v1.0.0\"\n",
    "HOST_TENANT = \"iiotuxpc\"\n",
    "USER_TENANT = \"iiotuxpc\"\n",
    "credential_create_time = \"23/02/2023::18:53\"\n",
    "\n",
    "#--- generate access token\n",
    "import requests\n",
    "import json\n",
    "import base64\n",
    "\n",
    "id = CLIENT_ID\n",
    "secret = CLIENT_SECRET\n",
    "encode_msg = id + \":\" + secret\n",
    "token = base64.b64encode(encode_msg.encode(\"utf-8\")).decode(\"utf-8\")\n",
    "\n",
    "url = \"https://gateway.eu1.mindsphere.io/api/technicaltokenmanager/v3/oauth/token\"\n",
    "\n",
    "payload = json.dumps({\n",
    "  \"grant_type\": \"client_credentials\",\n",
    "  \"appName\": APP_NAME,\n",
    "  \"appVersion\": APP_VERSION,\n",
    "  \"hostTenant\": HOST_TENANT,\n",
    "  \"userTenant\": USER_TENANT\n",
    "})\n",
    "headers = {\n",
    "  'X-SPACE-AUTH-KEY': \"Basic \" + token,\n",
    "  'Content-Type': 'application/json'\n",
    "}\n",
    "\n",
    "token_response = requests.request(\"POST\", url, headers=headers, data=payload)\n",
    "\n",
    "print(token_response.text)\n",
    "bearer_token = json.loads(token_response.text)[\"access_token\"]\n",
    "print(bearer_token)"
   ]
  },
  {
   "attachments": {},
   "cell_type": "markdown",
   "metadata": {},
   "source": [
    "## get assets list"
   ]
  },
  {
   "cell_type": "code",
   "execution_count": 8,
   "metadata": {},
   "outputs": [],
   "source": [
    "# get list of assets\n",
    "url = \"https://gateway.eu1.mindsphere.io/api/assetmanagement/v3/assets\"\n",
    "\n",
    "payload={}\n",
    "headers = {\n",
    "  'Authorization': 'Bearer ' + bearer_token\n",
    "}\n",
    "\n",
    "assets_list_response = requests.request(\"GET\", url, headers=headers, data=payload)\n",
    "assets_list=json.loads(assets_list_response.text)\n"
   ]
  },
  {
   "cell_type": "code",
   "execution_count": 62,
   "metadata": {},
   "outputs": [
    {
     "name": "stdout",
     "output_type": "stream",
     "text": [
      "machine 60bf86d1d051416f853b1e22f3714b8c\n"
     ]
    }
   ],
   "source": [
    "#========================================\n",
    "#--- accessing assets list data\n",
    "#========================================\n",
    "\n",
    "#-- getting total number of assets in the list\n",
    "assets_count = assets_list[\"page\"][\"totalElements\"]\n",
    "# print(assets_count)\n",
    "\n",
    "# #--- getting name of a specific asset in the list\n",
    "# asset_name = assets_list[\"_embedded\"][\"assets\"][2][\"name\"]\n",
    "# print(asset_name)\n",
    "\n",
    "# #--- getting id of a specific asset in the list\n",
    "# asset_Id = assets_list[\"_embedded\"][\"assets\"][2][\"assetId\"]\n",
    "# print(asset_Id)\n",
    "\n",
    "#--- finding asset id using name from the assets list\n",
    "asset_name = \"machine\"\n",
    "for ii in range(0,assets_count):\n",
    "    if assets_list[\"_embedded\"][\"assets\"][ii][\"name\"] == asset_name:\n",
    "        asset_Id = assets_list[\"_embedded\"][\"assets\"][ii][\"assetId\"]\n",
    "        print(asset_name,asset_Id)\n",
    "        break\n",
    "else: print(\"Error:\\n\\tAsset not found in the assets list.\\n\\tVerify the accuracy of asset name and the assets list. Asset name is case sensitive.\")\n"
   ]
  },
  {
   "attachments": {},
   "cell_type": "markdown",
   "metadata": {},
   "source": [
    "## get Aspects list of a asset"
   ]
  },
  {
   "cell_type": "code",
   "execution_count": 46,
   "metadata": {},
   "outputs": [],
   "source": [
    "# get list of aspects of a asset\n",
    "init_end_point = \"assetmanagement/v3/assets/\"\n",
    "data_needed = \"/aspects/\"\n",
    "end_point = init_end_point + asset_Id + data_needed\n",
    "\n",
    "base_url = \"https://gateway.eu1.mindsphere.io/api/\"\n",
    "url = base_url + end_point\n",
    "\n",
    "payload={}\n",
    "headers = {\n",
    "  'Authorization': 'Bearer ' + bearer_token\n",
    "}\n",
    "\n",
    "aspects_list_response = requests.request(\"GET\", url, headers=headers, data=payload)\n",
    "# print(aspects_list_response.text)\n",
    "aspects_list=json.loads(aspects_list_response.text)"
   ]
  },
  {
   "cell_type": "code",
   "execution_count": 57,
   "metadata": {},
   "outputs": [],
   "source": [
    "#========================================\n",
    "#--- accessing aspects list data\n",
    "#========================================\n",
    "\n",
    "#-- getting total number of aspects in the list\n",
    "aspects_count = aspects_list[\"page\"][\"totalElements\"]\n",
    "# print(aspects_count)\n",
    "\n",
    "# #--- getting name of a specific asset in the list\n",
    "# aspect_name = aspects_list[\"_embedded\"][\"aspects\"][1][\"name\"]\n",
    "# print(aspect_name)\n",
    "\n",
    "# #--- getting id of a specific asset in the list\n",
    "# aspect_Id = aspects_list[\"_embedded\"][\"aspects\"][1][\"aspectId\"]\n",
    "# print(aspect_Id)\n",
    "\n",
    "#--- finding aspect id using name from the assests list\n",
    "aspect_name = \"status\"\n",
    "for ii in range(0,aspects_count):\n",
    "    if aspects_list[\"_embedded\"][\"aspects\"][ii][\"name\"] == aspect_name:\n",
    "        aspect_Id = aspects_list[\"_embedded\"][\"aspects\"][ii][\"aspectId\"]\n",
    "        # print(aspect_name,aspect_Id)\n",
    "        break\n",
    "else: print(\"Error:\\n\\tAspect not found in the assets list.\\n\\tVerify the accuracy of the asset ID, aspect name and the aspects list. Aspect name is case sensitive.\")"
   ]
  },
  {
   "attachments": {},
   "cell_type": "markdown",
   "metadata": {},
   "source": [
    "## get Variables list of a asset (not defined as a part of a aspect)"
   ]
  },
  {
   "cell_type": "code",
   "execution_count": 18,
   "metadata": {},
   "outputs": [
    {
     "ename": "NameError",
     "evalue": "name 'asset_end_point' is not defined",
     "output_type": "error",
     "traceback": [
      "\u001b[1;31m---------------------------------------------------------------------------\u001b[0m",
      "\u001b[1;31mNameError\u001b[0m                                 Traceback (most recent call last)",
      "Cell \u001b[1;32mIn[18], line 4\u001b[0m\n\u001b[0;32m      2\u001b[0m init_point \u001b[39m=\u001b[39m \u001b[39m\"\u001b[39m\u001b[39massetmanagement/v3/assets/\u001b[39m\u001b[39m\"\u001b[39m\n\u001b[0;32m      3\u001b[0m data_needed \u001b[39m=\u001b[39m \u001b[39m\"\u001b[39m\u001b[39m/variables\u001b[39m\u001b[39m\"\u001b[39m\n\u001b[1;32m----> 4\u001b[0m end_point \u001b[39m=\u001b[39m asset_end_point \u001b[39m+\u001b[39m asset_Id \u001b[39m+\u001b[39m data_needed\n\u001b[0;32m      6\u001b[0m base_url \u001b[39m=\u001b[39m \u001b[39m\"\u001b[39m\u001b[39mhttps://gateway.eu1.mindsphere.io/api/\u001b[39m\u001b[39m\"\u001b[39m\n\u001b[0;32m      7\u001b[0m url \u001b[39m=\u001b[39m base_url \u001b[39m+\u001b[39m end_point\n",
      "\u001b[1;31mNameError\u001b[0m: name 'asset_end_point' is not defined"
     ]
    }
   ],
   "source": [
    "# get list of asset variables defined outside aspects\n",
    "init_point = \"assetmanagement/v3/assets/\"\n",
    "data_needed = \"/variables\"\n",
    "end_point = asset_end_point + asset_Id + data_needed\n",
    "\n",
    "base_url = \"https://gateway.eu1.mindsphere.io/api/\"\n",
    "url = base_url + end_point\n",
    "\n",
    "payload={}\n",
    "headers = {\n",
    "  'Authorization': 'Bearer ' + bearer_token\n",
    "}\n",
    "\n",
    "variables_list_response = requests.request(\"GET\", url, headers=headers, data=payload)\n",
    "# print(variables_list_response.text)\n",
    "variables_list=json.loads(variables_list_response.text)"
   ]
  },
  {
   "cell_type": "code",
   "execution_count": null,
   "metadata": {},
   "outputs": [],
   "source": [
    "#========================================\n",
    "#--- accessing variables list datadefined outside aspects\n",
    "#========================================\n",
    "\n",
    "#-- getting total number of variables in the list\n",
    "variables_count = variables_list[\"page\"][\"totalElements\"]\n",
    "print(variables_count)\n",
    "\n",
    "#--- getting name of a specific asset in the list\n",
    "variable_name = variables_list[\"_embedded\"][\"variables\"][0][\"name\"]\n",
    "print(variable_name)\n",
    "\n",
    "#--- getting id of a specific asset in the list\n",
    "variable_Id = variables_list[\"_embedded\"][\"variables\"][0][\"variableId\"] # gives out error if no variables declared\n",
    "print(variable_Id)"
   ]
  },
  {
   "attachments": {},
   "cell_type": "markdown",
   "metadata": {},
   "source": [
    "## get iot timeseries data (ISO8601 format: YYYY-MM-DDTHH:MM:SS.SSSZ)"
   ]
  },
  {
   "cell_type": "code",
   "execution_count": 81,
   "metadata": {},
   "outputs": [
    {
     "name": "stdout",
     "output_type": "stream",
     "text": [
      "[{\"activity_type\":\"started\",\"machine_id\":\"machine_1\",\"part_id\":\"100\",\"_time\":\"2023-02-20T02:01:01.001Z\",\"queue\":\"queue 1\",\"timestamp\":\"2023-02-20T02:01:01.001Z\"},{\"activity_type\":\"finished\",\"machine_id\":\"machine_1\",\"part_id\":\"100\",\"_time\":\"2023-02-20T02:02:01.001Z\",\"queue\":\"queue 1\",\"timestamp\":\"2023-02-20T02:02:01.001Z\"}]\n"
     ]
    }
   ],
   "source": [
    "# get list of aspects a asset\n",
    "asset_name = \"machine\"\n",
    "asset_Id = \"60bf86d1d051416f853b1e22f3714b8c\"\n",
    "aspect_name = \"real_log\"\n",
    "from_time = \"2023-02-20T02:00:01.001Z\"\n",
    "to_time = \"2023-02-20T02:02:01.001Z\"\n",
    "data_condition = \"?from=\" + from_time + \"&to=\" + to_time\n",
    "end_point = \"iottimeseries/v3/timeseries/\" + asset_Id + \"/\" + aspect_name + data_condition\n",
    "\n",
    "base_url = \"https://gateway.eu1.mindsphere.io/api/\"\n",
    "url = base_url + end_point\n",
    "\n",
    "payload={}\n",
    "headers = {\n",
    "  'Authorization': 'Bearer ' + bearer_token\n",
    "}\n",
    "\n",
    "time_series_response = requests.request(\"GET\", url, headers=headers, data=payload)\n",
    "print(time_series_response.text)\n",
    "time_series=json.loads(time_series_response.text)\n",
    "# print(time_series)"
   ]
  },
  {
   "attachments": {},
   "cell_type": "markdown",
   "metadata": {},
   "source": [
    "## put iot timeseries data (ISO8601 format: YYYY-MM-DDTHH:MM:SS.SSSZ)"
   ]
  },
  {
   "attachments": {},
   "cell_type": "markdown",
   "metadata": {},
   "source": [
    "- machine:real_log\n",
    "- _time:YYYY-MM-DDTHH:MM:SS.SSSZ, activity_type:STRING, machine_id:STRING, part_id:STRING, queue:STRING, timestamp:YYYY-MM-DDTHH:MM:SS.SSSZ\n",
    "- _time (MindSphere internal variable) is compulsary as we are writing to a time series database"
   ]
  },
  {
   "cell_type": "code",
   "execution_count": 91,
   "metadata": {},
   "outputs": [
    {
     "name": "stdout",
     "output_type": "stream",
     "text": [
      "Data PUT successfully.\n"
     ]
    }
   ],
   "source": [
    "#--- create a table from existing txt file or log file\n",
    "\n",
    "\n",
    "#--- process the table to desired input format\n",
    "\n",
    "\n",
    "#--- convert the table into json dictionary\n",
    "payload = json.dumps([\n",
    "    {\n",
    "    \"_time\":\"2023-02-20T02:01:01.001Z\",\n",
    "    \"activity_type\":\"started\",\n",
    "    \"machine_id\":\"machine_1\",\n",
    "    \"part_id\":\"100\",\n",
    "    \"queue\":\"queue 1\",\n",
    "    \"timestamp\":\"2023-02-20T02:01:01.001Z\"\n",
    "    },\n",
    "    {\n",
    "    \"_time\":\"2023-02-20T02:02:01.001Z\",\n",
    "    \"activity_type\":\"finished\",\n",
    "    \"machine_id\":\"machine_1\",\n",
    "    \"part_id\":\"100\",\n",
    "    \"queue\":\"queue 1\",\n",
    "    \"timestamp\":\"2023-02-20T02:02:01.001Z\"\n",
    "    }\n",
    "])\n",
    "\n",
    "#--- process the API PUT sequence\n",
    "asset_Id = \"60bf86d1d051416f853b1e22f3714b8c\"\n",
    "aspect_name = \"real_log\"\n",
    "end_point = \"iottimeseries/v3/timeseries/\" + asset_Id + \"/\" + aspect_name\n",
    "base_url = \"https://gateway.eu1.mindsphere.io/api/\"\n",
    "\n",
    "url = base_url + end_point\n",
    "data_json = json.dumps(data)\n",
    "headers = {\n",
    "  'Content-Type': 'application/json',\n",
    "  'Accept': 'application/json',\n",
    "  'Authorization': \"Bearer \" + bearer_token\n",
    "}\n",
    "\n",
    "response = requests.request(\"PUT\", url, headers=headers, data=payload)\n",
    "if not response.text:\n",
    "  print(\"Data PUT successfully.\")\n",
    "else:print(\"Error:\\n\\t\",response.text)"
   ]
  }
 ],
 "metadata": {
  "kernelspec": {
   "display_name": "envms-5RuKx47c",
   "language": "python",
   "name": "python3"
  },
  "language_info": {
   "codemirror_mode": {
    "name": "ipython",
    "version": 3
   },
   "file_extension": ".py",
   "mimetype": "text/x-python",
   "name": "python",
   "nbconvert_exporter": "python",
   "pygments_lexer": "ipython3",
   "version": "3.11.2"
  },
  "orig_nbformat": 4,
  "vscode": {
   "interpreter": {
    "hash": "9bd4393de72b202860c7a00344b7b9237910cc840a34fda27ddd8f40e12d3a7f"
   }
  }
 },
 "nbformat": 4,
 "nbformat_minor": 2
}
