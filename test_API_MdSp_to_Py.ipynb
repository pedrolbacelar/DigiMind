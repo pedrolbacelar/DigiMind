{
 "cells": [
  {
   "attachments": {},
   "cell_type": "markdown",
   "metadata": {},
   "source": [
    "# API Functions (MindSphere to Py)"
   ]
  },
  {
   "attachments": {},
   "cell_type": "markdown",
   "metadata": {},
   "source": [
    "## Description"
   ]
  },
  {
   "attachments": {},
   "cell_type": "markdown",
   "metadata": {},
   "source": [
    "We do this by defining API endpoints in Python and making it accessible using a publically available URL pointing to the local machine where the API endpoints are defined."
   ]
  },
  {
   "attachments": {},
   "cell_type": "markdown",
   "metadata": {},
   "source": [
    "Steps:\n",
    "1. Setup `NGROK` package to obtain publically accessible URL for the local machine. This becomes the base url. The URL expires in 8 hours.\n",
    "2. Define API endpoints and the related methods & functions using `FLASK` package in the local machine where the rest of the scripts are present.\n",
    "3. Configure Visual Flow Creator to read request from the user and pass it to `HTTP request` block.\n",
    "4. Use `HTTP request` block in `Visual flow creator` to make the API requests to Python. Making low number of requests with lite payload can reduce the computation time consumption (limit: 2 hours)."
   ]
  }
 ],
 "metadata": {
  "kernelspec": {
   "display_name": "envms-5RuKx47c",
   "language": "python",
   "name": "python3"
  },
  "language_info": {
   "name": "python",
   "version": "3.11.2"
  },
  "orig_nbformat": 4,
  "vscode": {
   "interpreter": {
    "hash": "9bd4393de72b202860c7a00344b7b9237910cc840a34fda27ddd8f40e12d3a7f"
   }
  }
 },
 "nbformat": 4,
 "nbformat_minor": 2
}
