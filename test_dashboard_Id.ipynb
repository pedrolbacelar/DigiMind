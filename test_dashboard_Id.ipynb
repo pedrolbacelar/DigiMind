{
 "cells": [
  {
   "attachments": {},
   "cell_type": "markdown",
   "metadata": {},
   "source": [
    "# Find a URL to access the dashboard directly from outside"
   ]
  },
  {
   "attachments": {},
   "cell_type": "markdown",
   "metadata": {},
   "source": [
    "## Code not working"
   ]
  },
  {
   "cell_type": "code",
   "execution_count": 3,
   "metadata": {},
   "outputs": [
    {
     "name": "stdout",
     "output_type": "stream",
     "text": [
      "Error retrieving VFC applications: 404 - [{\"logref\":\"dd08f9f26be24442b8918da806e83902\",\"message\":\"MindSphere Gateway error: There is no registered installation: https://iiotuxpc.eu1.mindsphere.io/api/iotcs/v3/vfc-applications\",\"stackTrace\":\"MindSphere Gateway error: There is no registered installation: https://iiotuxpc.eu1.mindsphere.io/api/iotcs/v3/vfc-applications\"}]\n"
     ]
    }
   ],
   "source": [
    "import requests\n",
    "import json\n",
    "\n",
    "# Set the Mindsphere API credentials and endpoint URL\n",
    "tenant = 'iiotuxpc'\n",
    "client_id = 'iiotuxpc-testdm-v1.0.0'\n",
    "client_secret = 'UvwnNgdc8Y0KsE7IZSFy2Jp28kQGzAd0fEHXcDOWbIX'\n",
    "api_url = f'https://{tenant}.eu1.mindsphere.io/api/iotcs'\n",
    "\n",
    "# Get the Mindsphere access token using the client credentials flow\n",
    "auth_url = f'https://{tenant}.eu1.mindsphere.io/oauth/token'\n",
    "auth_headers = {'Content-Type': 'application/x-www-form-urlencoded'}\n",
    "auth_data = {'grant_type': 'client_credentials', 'client_id': client_id, 'client_secret': client_secret}\n",
    "auth_response = requests.post(auth_url, headers=auth_headers, data=auth_data)\n",
    "access_token = 'eyJhbGciOiJSUzI1NiIsImprdSI6Imh0dHBzOi8vaWlvdHV4cGMucGlhbS5ldTEubWluZHNwaGVyZS5pby90b2tlbl9rZXlzIiwia2lkIjoia2V5LWlkLTMiLCJ0eXAiOiJKV1QifQ.eyJqdGkiOiJlYzhkZGZhZjExNGU0NjkyOTE5ZGRlOWY5MzNiNDU4MyIsInN1YiI6Imlpb3R1eHBjLXRlc3RkbS12MS4wLjAzOSIsInNjb3BlIjpbImlhbS1hY3Rpb24uY2xpZW50X2NyZWRlbnRpYWxzLnVzZXItaW1wZXJzb25hdGlvbiIsIm1kc3A6Y29yZTpBZG1pbjNyZFBhcnR5VGVjaFVzZXIiXSwiY2xpZW50X2lkIjoiaWlvdHV4cGMtdGVzdGRtLXYxLjAuMDM5IiwiY2lkIjoiaWlvdHV4cGMtdGVzdGRtLXYxLjAuMDM5IiwiYXpwIjoiaWlvdHV4cGMtdGVzdGRtLXYxLjAuMDM5IiwiZ3JhbnRfdHlwZSI6ImNsaWVudF9jcmVkZW50aWFscyIsInJldl9zaWciOiI3ODA5MTVhNCIsImlhdCI6MTY3NzQyOTQ3OCwiZXhwIjoxNjc3NDMxMjc4LCJpc3MiOiJodHRwczovL2lpb3R1eHBjLnBpYW0uZXUxLm1pbmRzcGhlcmUuaW8vb2F1dGgvdG9rZW4iLCJ6aWQiOiJpaW90dXhwYyIsImF1ZCI6WyJpYW0tYWN0aW9uLmNsaWVudF9jcmVkZW50aWFscyIsImlpb3R1eHBjLXRlc3RkbS12MS4wLjAzOSJdLCJ0ZW4iOiJpaW90dXhwYyIsInNjaGVtYXMiOlsidXJuOnNpZW1lbnM6bWluZHNwaGVyZTppYW06djEiXSwiY2F0IjoiY2xpZW50LXRva2VuOnYxIn0.aQVoDIfTQUrx2kohU-hb6eUL_EME6GO5kh0C1zBPsEnCKM8kyDATx8SM5EjSppqk2gY_DURcADciGY5J-Ztx16W6GTRc52OVP5IF7LFcIABnMpsJ3Yu7XNk5KC5YhatMDKC5vf3Y8omX-y4R-i4rqsYKtdYlC2l-8eXGT38KbFkUt-a9wXceDYQHddexY1PBsh3YqzIrmVihjTDFJaqQPUzKbkLfRrPn64-XXiLFu3a9yFdiodmILk4fH8WoA-BAfnbTp4fa5LCalQzNvtvg0xmURMhQuWoVF7_CktDaBHXOebmLxQnFwINKIuApu_CPcbupIiQdmTSBCa20ABlcPA'\n",
    "\n",
    "# Define the API endpoint to retrieve the list of VFC applications\n",
    "vfc_applications_endpoint = f'{api_url}/v3/vfc-applications'\n",
    "\n",
    "# Define the headers for the API request, including the Mindsphere access token\n",
    "headers = {\n",
    "    'Authorization': f'Bearer {access_token}',\n",
    "    'Content-Type': 'application/json'\n",
    "}\n",
    "\n",
    "# Send the API request to retrieve the list of VFC applications\n",
    "response = requests.get(vfc_applications_endpoint, headers=headers)\n",
    "\n",
    "# Parse the API response and extract the dashboard links for each VFC application\n",
    "if response.status_code == 200:\n",
    "    vfc_applications = response.json()['content']\n",
    "    for vfc_app in vfc_applications:\n",
    "        vfc_app_id = vfc_app['id']\n",
    "        vfc_app_name = vfc_app['name']\n",
    "        vfc_app_dashboard_link = vfc_app['dashboardLink']\n",
    "        print(f'VFC application \"{vfc_app_name}\" ({vfc_app_id}) has dashboard link: {vfc_app_dashboard_link}')\n",
    "else:\n",
    "    print(f'Error retrieving VFC applications: {response.status_code} - {response.text}')\n"
   ]
  },
  {
   "attachments": {},
   "cell_type": "markdown",
   "metadata": {},
   "source": [
    "## Code not working"
   ]
  },
  {
   "cell_type": "code",
   "execution_count": 6,
   "metadata": {},
   "outputs": [
    {
     "name": "stdout",
     "output_type": "stream",
     "text": [
      "\n"
     ]
    }
   ],
   "source": [
    "import requests\n",
    "import json\n",
    "\n",
    "# Define the Mindsphere API endpoint for getting VFC dashboard URL\n",
    "endpoint_url = \"https://gateway.eu1.mindsphere.io/api/iottimeseries/v3/timeseries/@vfc-dashboards\"\n",
    "access_token = 'eyJhbGciOiJSUzI1NiIsImprdSI6Imh0dHBzOi8vaWlvdHV4cGMucGlhbS5ldTEubWluZHNwaGVyZS5pby90b2tlbl9rZXlzIiwia2lkIjoia2V5LWlkLTMiLCJ0eXAiOiJKV1QifQ.eyJqdGkiOiJlYzhkZGZhZjExNGU0NjkyOTE5ZGRlOWY5MzNiNDU4MyIsInN1YiI6Imlpb3R1eHBjLXRlc3RkbS12MS4wLjAzOSIsInNjb3BlIjpbImlhbS1hY3Rpb24uY2xpZW50X2NyZWRlbnRpYWxzLnVzZXItaW1wZXJzb25hdGlvbiIsIm1kc3A6Y29yZTpBZG1pbjNyZFBhcnR5VGVjaFVzZXIiXSwiY2xpZW50X2lkIjoiaWlvdHV4cGMtdGVzdGRtLXYxLjAuMDM5IiwiY2lkIjoiaWlvdHV4cGMtdGVzdGRtLXYxLjAuMDM5IiwiYXpwIjoiaWlvdHV4cGMtdGVzdGRtLXYxLjAuMDM5IiwiZ3JhbnRfdHlwZSI6ImNsaWVudF9jcmVkZW50aWFscyIsInJldl9zaWciOiI3ODA5MTVhNCIsImlhdCI6MTY3NzQyOTQ3OCwiZXhwIjoxNjc3NDMxMjc4LCJpc3MiOiJodHRwczovL2lpb3R1eHBjLnBpYW0uZXUxLm1pbmRzcGhlcmUuaW8vb2F1dGgvdG9rZW4iLCJ6aWQiOiJpaW90dXhwYyIsImF1ZCI6WyJpYW0tYWN0aW9uLmNsaWVudF9jcmVkZW50aWFscyIsImlpb3R1eHBjLXRlc3RkbS12MS4wLjAzOSJdLCJ0ZW4iOiJpaW90dXhwYyIsInNjaGVtYXMiOlsidXJuOnNpZW1lbnM6bWluZHNwaGVyZTppYW06djEiXSwiY2F0IjoiY2xpZW50LXRva2VuOnYxIn0.aQVoDIfTQUrx2kohU-hb6eUL_EME6GO5kh0C1zBPsEnCKM8kyDATx8SM5EjSppqk2gY_DURcADciGY5J-Ztx16W6GTRc52OVP5IF7LFcIABnMpsJ3Yu7XNk5KC5YhatMDKC5vf3Y8omX-y4R-i4rqsYKtdYlC2l-8eXGT38KbFkUt-a9wXceDYQHddexY1PBsh3YqzIrmVihjTDFJaqQPUzKbkLfRrPn64-XXiLFu3a9yFdiodmILk4fH8WoA-BAfnbTp4fa5LCalQzNvtvg0xmURMhQuWoVF7_CktDaBHXOebmLxQnFwINKIuApu_CPcbupIiQdmTSBCa20ABlcPA'\n",
    "\n",
    "# Set the headers for authentication\n",
    "headers = {\n",
    "    \"Authorization\": \"Bearer \" + access_token,\n",
    "    \"Content-Type\": \"application/json\"\n",
    "}\n",
    "\n",
    "# Send a GET request to the endpoint\n",
    "response = requests.get(endpoint_url, headers=headers)\n",
    "print(response.text)\n"
   ]
  }
 ],
 "metadata": {
  "kernelspec": {
   "display_name": "envms-5RuKx47c",
   "language": "python",
   "name": "python3"
  },
  "language_info": {
   "codemirror_mode": {
    "name": "ipython",
    "version": 3
   },
   "file_extension": ".py",
   "mimetype": "text/x-python",
   "name": "python",
   "nbconvert_exporter": "python",
   "pygments_lexer": "ipython3",
   "version": "3.11.2"
  },
  "orig_nbformat": 4,
  "vscode": {
   "interpreter": {
    "hash": "9bd4393de72b202860c7a00344b7b9237910cc840a34fda27ddd8f40e12d3a7f"
   }
  }
 },
 "nbformat": 4,
 "nbformat_minor": 2
}
