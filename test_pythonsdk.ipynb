{
 "cells": [
  {
   "cell_type": "code",
   "execution_count": null,
   "metadata": {},
   "outputs": [],
   "source": [
    "# Import the RestClientConfig class from the mindsphere_core module\n",
    "from mindsphere_core import RestClientConfig\n",
    "\n",
    "# clientConfig = RestClientConfig(\"<proxy_host>\", <proxy_port>)\n",
    "# from timeseries.clients.time_series_client import TimeSeriesClient\n",
    "from timeseries.clients.time_series_client import TimeSeriesClient # not working\n",
    "from timeseries.models import GetTimeseriesRequest"
   ]
  },
  {
   "cell_type": "code",
   "execution_count": 1,
   "metadata": {},
   "outputs": [
    {
     "ename": "ModuleNotFoundError",
     "evalue": "No module named 'mindconnect.clients.diagnostic_activation_client'",
     "output_type": "error",
     "traceback": [
      "\u001b[1;31m---------------------------------------------------------------------------\u001b[0m",
      "\u001b[1;31mModuleNotFoundError\u001b[0m                       Traceback (most recent call last)",
      "Cell \u001b[1;32mIn[1], line 9\u001b[0m\n\u001b[0;32m      6\u001b[0m \u001b[39mfrom\u001b[39;00m \u001b[39mmindsphere_core\u001b[39;00m\u001b[39m.\u001b[39;00m\u001b[39mexceptions\u001b[39;00m \u001b[39mimport\u001b[39;00m MindsphereError\n\u001b[0;32m      8\u001b[0m \u001b[39m# Import the DiagnosticActivationsClient from mindconnect module\u001b[39;00m\n\u001b[1;32m----> 9\u001b[0m \u001b[39mfrom\u001b[39;00m \u001b[39mmindconnect\u001b[39;00m\u001b[39m.\u001b[39;00m\u001b[39mclients\u001b[39;00m\u001b[39m.\u001b[39;00m\u001b[39mdiagnostic_activation_client\u001b[39;00m \u001b[39mimport\u001b[39;00m DiagnosticActivationsClient\n\u001b[0;32m     12\u001b[0m \u001b[39m# Create the DiagnosticActivationsClient object using the RestClientConfig and UserToken objects\u001b[39;00m\n\u001b[0;32m     13\u001b[0m diagnosticActivationsClient \u001b[39m=\u001b[39m DiagnosticActivationsClient(rest_client_config \u001b[39m=\u001b[39m config, mindsphere_credentials \u001b[39m=\u001b[39m credentials)\n",
      "\u001b[1;31mModuleNotFoundError\u001b[0m: No module named 'mindconnect.clients.diagnostic_activation_client'"
     ]
    }
   ],
   "source": [
    "# Import the RestClientConfig and UserToken from mindsphere_core module\n",
    "from mindsphere_core import RestClientConfig\n",
    "from mindsphere_core import UserToken\n",
    "\n",
    "# Import the MindsphereError from mindsphere_core.exceptions module\n",
    "from mindsphere_core.exceptions import MindsphereError\n",
    "\n",
    "# Import the DiagnosticActivationsClient from mindconnect module\n",
    "from mindconnect.clients.diagnostic_activation_client import DiagnosticActivationsClient\n",
    "\n",
    "\n",
    "# Create the DiagnosticActivationsClient object using the RestClientConfig and UserToken objects\n",
    "diagnosticActivationsClient = DiagnosticActivationsClient(rest_client_config = config, mindsphere_credentials = credentials)\n",
    "\n",
    "try:\n",
    "    # Create the request object\n",
    "    request_object = DiagnosticActivationsGetRequest()\n",
    "\n",
    "    # Initiate the API call\n",
    "    response = diagnosticActivationsClient.diagnostic_activations_get(request_object)\n",
    "\n",
    "except MindsphereError as err:\n",
    "    # Exception Handling\n",
    "    print(\"error\")"
   ]
  },
  {
   "cell_type": "code",
   "execution_count": 3,
   "metadata": {},
   "outputs": [],
   "source": [
    "from mindsphere_core.mindsphere_credentials import UserToken\n",
    "credentials = UserToken(authorization=None)   # <token> not available\n",
    "# print(credentials)"
   ]
  },
  {
   "cell_type": "code",
   "execution_count": 20,
   "metadata": {},
   "outputs": [
    {
     "ename": "ImportError",
     "evalue": "cannot import name 'TimeSeriesClient' from 'timeseries' (c:\\Users\\HP\\.virtualenvs\\envms-5RuKx47c\\Lib\\site-packages\\timeseries\\__init__.py)",
     "output_type": "error",
     "traceback": [
      "\u001b[1;31m---------------------------------------------------------------------------\u001b[0m",
      "\u001b[1;31mImportError\u001b[0m                               Traceback (most recent call last)",
      "Cell \u001b[1;32mIn[20], line 2\u001b[0m\n\u001b[0;32m      1\u001b[0m \u001b[39mfrom\u001b[39;00m \u001b[39mmindsphere_core\u001b[39;00m \u001b[39mimport\u001b[39;00m RestClientConfig\n\u001b[1;32m----> 2\u001b[0m \u001b[39mfrom\u001b[39;00m \u001b[39mtimeseries\u001b[39;00m \u001b[39mimport\u001b[39;00m TimeSeriesClient\n\u001b[0;32m      4\u001b[0m \u001b[39m# Create a new instance of the RestClientConfig class\u001b[39;00m\n\u001b[0;32m      5\u001b[0m config \u001b[39m=\u001b[39m RestClientConfig()\n",
      "\u001b[1;31mImportError\u001b[0m: cannot import name 'TimeSeriesClient' from 'timeseries' (c:\\Users\\HP\\.virtualenvs\\envms-5RuKx47c\\Lib\\site-packages\\timeseries\\__init__.py)"
     ]
    }
   ],
   "source": [
    "# Import the RestClientConfig and UserToken from mindsphere_core module\n",
    "from mindsphere_core import RestClientConfig\n",
    "from mindsphere_core import UserToken\n",
    "\n",
    "# Import the MindsphereError from mindsphere_core.exceptions module\n",
    "from mindsphere_core.exceptions import MindsphereError\n",
    "\n",
    "# Import TimeseriesClient from timeseries module\n",
    "from timeseries.clients.time_series_client import TimeSeriesClient\n",
    "\n",
    "# Import GetTimeseriesRequest from timeseries.models module\n",
    "from timeseries.models import GetTimeseriesRequest\n",
    "\n",
    "# Instantiate RestClientConfig and UserToken objects\n",
    "clientConfig = RestClientConfig(proxy_host = \"<proxy_host>\", proxy_port = <proxy_port>)\n",
    "credentials = UserToken(authorization = \"<bearer_token>\")\n",
    "\n",
    "# Construct the TimeSeriesClient object using the clientConfig and credentials objects\n",
    "timeseriesClient = TimeSeriesClient(rest_client_config = clientConfig, mindsphere_credentials = credentials)\n",
    "\n",
    "try:\n",
    "    request_object = GetTimeseriesRequest(\n",
    "        _from=\"start_time\",\n",
    "        to=\"end_time\",\n",
    "        entity=\"entity_id\",\n",
    "        propertysetname=\"property_set_name\"\n",
    "    )\n",
    "\n",
    "    timeseries = timeseriesClient.get_timeseries(request_object)\n",
    "\n",
    "except MindsphereError as err:\n",
    "    //Exception Handling"
   ]
  },
  {
   "cell_type": "code",
   "execution_count": null,
   "metadata": {},
   "outputs": [],
   "source": [
    "import base64\n",
    "import requests\n",
    "\n",
    "URL = \"https://iiotuxpc.eu1.mindsphere.io\"\n",
    "TOKEN_ENDPOINT = '/api/technicaltokenmanager/v3/oauth/token'\n",
    "IAM_ENDPOINT = '/api/im/v3/Users'\n",
    "\n",
    "payload = \"\"\"\n",
    "{\n",
    "      \"appName\": \"test1\",\n",
    "      \"appVersion\": \"1.0.0\",\n",
    "      \"hostTenant\": \"al\",\n",
    "      \"userTenant\": \"ex\"\n",
    "}\n",
    "\"\"\"\n",
    "\n",
    "encoded = base64.b64encode(b':').decode()\n",
    "headers = {\n",
    "  'X-SPACE-AUTH-KEY': 'Basic ' + encoded,\n",
    "  'Content-Type': 'application/json'\n",
    "}\n",
    "\n",
    "token_res = requests.post(url = URL+TOKEN_ENDPOINT, headers = headers, data = payload)\n",
    "data = token_res.json()\n",
    "\n",
    "#Token Generated using App Credentials\n",
    "token = data['access_token']    # not available\n",
    "\n",
    "print(data)\n",
    "\n",
    "auth_headers = {\n",
    "  'Authorization': 'Bearer ' + token,\n",
    "'Content-Type': 'application/json'\n",
    "}\n",
    "\n",
    "# sending get request and saving the response as response object\n",
    "iam_response = requests.get(url = URL+IAM_ENDPOINT, headers = auth_headers)\n",
    "\n",
    "# extracting users data in json format\n",
    "users = iam_response.json()\n",
    "\n",
    "#Users List\n",
    "print(users)"
   ]
  }
 ],
 "metadata": {
  "kernelspec": {
   "display_name": "envms-5RuKx47c",
   "language": "python",
   "name": "python3"
  },
  "language_info": {
   "codemirror_mode": {
    "name": "ipython",
    "version": 3
   },
   "file_extension": ".py",
   "mimetype": "text/x-python",
   "name": "python",
   "nbconvert_exporter": "python",
   "pygments_lexer": "ipython3",
   "version": "3.11.2"
  },
  "orig_nbformat": 4,
  "vscode": {
   "interpreter": {
    "hash": "9bd4393de72b202860c7a00344b7b9237910cc840a34fda27ddd8f40e12d3a7f"
   }
  }
 },
 "nbformat": 4,
 "nbformat_minor": 2
}
