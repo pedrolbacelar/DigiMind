{
 "cells": [
  {
   "attachments": {},
   "cell_type": "markdown",
   "metadata": {},
   "source": [
    "# Laser Workshop 5s Model APIs"
   ]
  },
  {
   "attachments": {},
   "cell_type": "markdown",
   "metadata": {},
   "source": [
    "## iiotuxpc"
   ]
  },
  {
   "attachments": {},
   "cell_type": "markdown",
   "metadata": {},
   "source": [
    "### Tasks"
   ]
  },
  {
   "attachments": {},
   "cell_type": "markdown",
   "metadata": {},
   "source": [
    "- check validity of client id and  client secret by generating bearer token once manually before demonstartion.\n",
    "- get bearer token every 25 minutes `bearerToken()`.\n",
    "- get asset id and aspect name only once in lifetime `get_assetid()`.\n",
    "- API calls to write time series data `put_timeseries()`\n",
    "  - 5s_Model\n",
    "    - logic_validation\n",
    "    - input_validation\n",
    "    - station_status\n",
    "    - queue_status\n",
    "  - RCT_server\n",
    "    - RCT_server"
   ]
  },
  {
   "attachments": {},
   "cell_type": "markdown",
   "metadata": {},
   "source": [
    "### Import packages"
   ]
  },
  {
   "cell_type": "code",
   "execution_count": 1,
   "metadata": {},
   "outputs": [],
   "source": [
    "import requests\n",
    "import json\n",
    "import base64\n",
    "import datetime"
   ]
  },
  {
   "attachments": {},
   "cell_type": "markdown",
   "metadata": {},
   "source": [
    "### Main functions"
   ]
  },
  {
   "cell_type": "code",
   "execution_count": 2,
   "metadata": {},
   "outputs": [],
   "source": [
    "#=========================================================\n",
    "#--- Generate bearer_token\n",
    "#=========================================================\n",
    "\n",
    "#--- client id and client secret is hard coded.\n",
    "def bearerToken():\n",
    "    #--- App details from developer cockpit\n",
    "    CLIENT_ID = \"iiotuxpc-testdm-v1.0.0\"\n",
    "    CLIENT_SECRET = \"UvwnNgdc8Y0KsE7IZSFy2Jp28kQGzAd0fEHXcDOWbIX\"\n",
    "    APP_NAME = \"testdm\"\n",
    "    APP_VERSION = \"v1.0.0\"\n",
    "    HOST_TENANT = \"iiotuxpc\"\n",
    "    USER_TENANT = \"iiotuxpc\"\n",
    "    credential_create_time = \"23/02/2023::18:53\"\n",
    "\n",
    "    #--- generate access token\n",
    "    id = CLIENT_ID\n",
    "    secret = CLIENT_SECRET\n",
    "    encode_msg = id + \":\" + secret\n",
    "    token = base64.b64encode(encode_msg.encode(\"utf-8\")).decode(\"utf-8\")\n",
    "    url = \"https://gateway.eu1.mindsphere.io/api/technicaltokenmanager/v3/oauth/token\"\n",
    "\n",
    "    payload = json.dumps({\n",
    "    \"grant_type\": \"client_credentials\",\n",
    "    \"appName\": APP_NAME,\n",
    "    \"appVersion\": APP_VERSION,\n",
    "    \"hostTenant\": HOST_TENANT,\n",
    "    \"userTenant\": USER_TENANT\n",
    "    })\n",
    "    headers = {\n",
    "    'X-SPACE-AUTH-KEY': \"Basic \" + token,\n",
    "    'Content-Type': 'application/json'\n",
    "    }\n",
    "\n",
    "    token_response = requests.request(\"POST\", url, headers=headers, data=payload)\n",
    "    # print(token_response.text)\n",
    "    bearer_token = json.loads(token_response.text)[\"access_token\"]\n",
    "    return(bearer_token)\n",
    "#------------------------------------------------------------------------------------------------------\n",
    "\n",
    "#=========================================================\n",
    "#--- Find AssetID using Asset name with GET API\n",
    "#=========================================================\n",
    "\n",
    "#--- Have to be executed only once in lifetime as the asset id do not change.\n",
    "def get_assetid(asset_name,bearer_token = None):\n",
    "    #--- get list of assets\n",
    "    if bearer_token == None:\n",
    "        bearer_token = bearerToken()\n",
    "    url = \"https://gateway.eu1.mindsphere.io/api/assetmanagement/v3/assets\"\n",
    "    payload={}\n",
    "    headers = {\n",
    "    'Authorization': 'Bearer ' + bearer_token\n",
    "    }\n",
    "    assets_list_response = requests.request(\"GET\", url, headers=headers, data=payload)  # GET API call for assets_list\n",
    "    assets_list=json.loads(assets_list_response.text)\n",
    "    assets_count = assets_list[\"page\"][\"totalElements\"]     # total number of assets available\n",
    "    \n",
    "    #--- find the asset_name and the corresponding ID in the assets_list\n",
    "    for ii in range(0,assets_count):\n",
    "        if assets_list[\"_embedded\"][\"assets\"][ii][\"name\"] == asset_name:\n",
    "            asset_Id = assets_list[\"_embedded\"][\"assets\"][ii][\"assetId\"]\n",
    "            # print(asset_name,asset_Id)\n",
    "            break\n",
    "    else: print(\"Error:\\n\\tAsset not found in the assets list.\\n\\tVerify the accuracy of asset name and the assets list. Asset name is case sensitive.\")\n",
    "    return(asset_Id)\n",
    "#------------------------------------------------------------------------------------------------------\n",
    "\n",
    "#=========================================================\n",
    "#--- GET time series data\n",
    "#=========================================================\n",
    "\n",
    "# get time series data from MindSphere specific to the aspect of a asset and query condition\n",
    "def get_timeseries(asset_Id, aspect_name, from_time, to_time,bearer_token = None):\n",
    "    if bearer_token == None:\n",
    "        bearer_token = bearerToken()\n",
    "    \n",
    "    data_condition = \"?from=\" + from_time + \"&to=\" + to_time    # query condition with from and to time period\n",
    "    end_point = \"iottimeseries/v3/timeseries/\" + asset_Id + \"/\" + aspect_name + data_condition\n",
    "    base_url = \"https://gateway.eu1.mindsphere.io/api/\"\n",
    "    url = base_url + end_point\n",
    "\n",
    "    payload={}\n",
    "    headers = {\n",
    "     'Authorization': 'Bearer ' + bearer_token\n",
    "    }\n",
    "\n",
    "    time_series_response = requests.request(\"GET\", url, headers=headers, data=payload)  # GET API call\n",
    "    print(time_series_response.text)\n",
    "    time_series=json.loads(time_series_response.text)\n",
    "    return(time_series)\n",
    "\n",
    "#------------------------------------------------------------------------------------------------------\n",
    "\n",
    "#=========================================================\n",
    "#--- PUT time series data\n",
    "#=========================================================\n",
    "\n",
    "# put time series data into MindSphere specific to the aspect of a asset\n",
    "def put_timeseries(asset_Id, aspect_name, payload,bearer_token = None):\n",
    "    if bearer_token == None:\n",
    "        bearer_token = bearerToken()\n",
    "    \n",
    "    end_point = \"iottimeseries/v3/timeseries/\" + asset_Id + \"/\" + aspect_name\n",
    "    base_url = \"https://gateway.eu1.mindsphere.io/api/\"\n",
    "    url = base_url + end_point\n",
    "\n",
    "    headers = {\n",
    "    'Content-Type': 'application/json',\n",
    "    'Accept': 'application/json',\n",
    "    'Authorization': \"Bearer \" + bearer_token\n",
    "    }\n",
    "\n",
    "    response = requests.request(\"PUT\", url, headers=headers, data=payload)  # PUT API call\n",
    "    if not response.text:\n",
    "        print(\"Data PUT successfully.\")\n",
    "    else:print(\"Error:\\n\\t\",response.text)\n",
    "\n",
    "#------------------------------------------------------------------------------------------------------\n"
   ]
  },
  {
   "attachments": {},
   "cell_type": "markdown",
   "metadata": {},
   "source": [
    "### Demonstration - Initialization"
   ]
  },
  {
   "cell_type": "code",
   "execution_count": 32,
   "metadata": {},
   "outputs": [
    {
     "name": "stdout",
     "output_type": "stream",
     "text": [
      "7da127f5a566408db16e0aeace5181e9\n",
      "f018a3e7cc4343efa5cc9eced3cc11d5\n"
     ]
    }
   ],
   "source": [
    "#--- find asset_id to use in the API calls\n",
    "#-- no need to run if already available\n",
    "Id_5s_Model = get_assetid(\"5s_Model\")\n",
    "Id_RCT_server = get_assetid(\"RCT_server\")\n",
    "\n",
    "print(Id_5s_Model)\n",
    "print(Id_RCT_server)"
   ]
  },
  {
   "attachments": {},
   "cell_type": "markdown",
   "metadata": {},
   "source": [
    "### Demostration - API Handles"
   ]
  },
  {
   "cell_type": "code",
   "execution_count": 31,
   "metadata": {},
   "outputs": [
    {
     "name": "stdout",
     "output_type": "stream",
     "text": [
      "Data PUT successfully.\n",
      "Data PUT successfully.\n",
      "Data PUT successfully.\n",
      "Data PUT successfully.\n"
     ]
    }
   ],
   "source": [
    "# bearer_token = bearerToken()    #-- Expires in 1799s. So, has to repeat this call every 25 to 29 minutes.\n",
    "\n",
    "#--- writing logic_validation\n",
    "indicator = [0.9,0.82]  #-- use this variable to pass the value #-- double\n",
    "indicator_data = json.dumps([\n",
    "    {\n",
    "    \"_time\" : datetime.datetime.utcnow().isoformat() + 'Z',\n",
    "    \"logic\" : indicator[0],\n",
    "    \"input\" : indicator[1]\n",
    "    }\n",
    "])\n",
    "put_timeseries(asset_Id=Id_5s_Model,aspect_name=\"validation_indicator\",payload=indicator_data,bearer_token=bearer_token)\n",
    "\n",
    "#--- writing station_status\n",
    "station_status = [False,True,True,False,True]    #-- use this variable to pass the value    #-- Boolean    #-- [True,False] = [Busy,Idle]\n",
    "station_data = json.dumps([\n",
    "    {\n",
    "    \"_time\" : datetime.datetime.utcnow().isoformat() + 'Z',\n",
    "    \"station_1\" : station_status[0],\n",
    "    \"station_2\" : station_status[1],\n",
    "    \"station_3\" : station_status[2],\n",
    "    \"station_4\" : station_status[3],\n",
    "    \"station_5\" : station_status[4]\n",
    "    }\n",
    "])\n",
    "put_timeseries(asset_Id=Id_5s_Model,aspect_name=\"station_status\",payload=station_data,bearer_token=bearer_token)\n",
    "\n",
    "#--- writing queue_status (number of parts)\n",
    "queue_status = [1,3,2,9,1]    #-- use this variable to pass the value   #-- integer\n",
    "queue_data = json.dumps([\n",
    "    {\n",
    "    \"_time\" : datetime.datetime.utcnow().isoformat() + 'Z',\n",
    "    \"queue_1\" : queue_status[0],\n",
    "    \"queue_2\" : queue_status[1],\n",
    "    \"queue_3\" : queue_status[2],\n",
    "    \"queue_4\" : queue_status[3],\n",
    "    \"queue_5\" : queue_status[4]\n",
    "    }\n",
    "])\n",
    "put_timeseries(asset_Id=Id_5s_Model,aspect_name=\"queue_status\",payload=queue_data,bearer_token=bearer_token)\n",
    "\n",
    "#--- writing RCT_server\n",
    "RCT_data = [55, 23.55, 22.65,2]     #-- use this variable to pass the value   #-- [part_id, path_1, path_2, queue_id]  #-- [integer, double, double, integer]\n",
    "RCT_data = json.dumps([\n",
    "    {\n",
    "    \"_time\" : datetime.datetime.utcnow().isoformat() + 'Z',\n",
    "    \"part_id\" : RCT_data[0],\n",
    "    \"path_1\" : RCT_data[1],\n",
    "    \"path_2\" : RCT_data[2],\n",
    "    \"queue_id\" : RCT_data[3]\n",
    "    }\n",
    "])\n",
    "put_timeseries(asset_Id=Id_RCT_server,aspect_name=\"RCT_server\",payload=RCT_data,bearer_token=bearer_token)"
   ]
  }
 ],
 "metadata": {
  "kernelspec": {
   "display_name": "envms-5RuKx47c",
   "language": "python",
   "name": "python3"
  },
  "language_info": {
   "codemirror_mode": {
    "name": "ipython",
    "version": 3
   },
   "file_extension": ".py",
   "mimetype": "text/x-python",
   "name": "python",
   "nbconvert_exporter": "python",
   "pygments_lexer": "ipython3",
   "version": "3.11.2"
  },
  "orig_nbformat": 4
 },
 "nbformat": 4,
 "nbformat_minor": 2
}
